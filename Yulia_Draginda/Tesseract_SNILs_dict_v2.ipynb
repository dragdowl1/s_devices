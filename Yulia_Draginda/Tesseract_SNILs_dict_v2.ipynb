{
  "nbformat": 4,
  "nbformat_minor": 0,
  "metadata": {
    "colab": {
      "provenance": [],
      "authorship_tag": "ABX9TyNFEUsf9nFzK40W/3z/rEqL",
      "include_colab_link": true
    },
    "kernelspec": {
      "name": "python3",
      "display_name": "Python 3"
    },
    "language_info": {
      "name": "python"
    }
  },
  "cells": [
    {
      "cell_type": "markdown",
      "metadata": {
        "id": "view-in-github",
        "colab_type": "text"
      },
      "source": [
        "<a href=\"https://colab.research.google.com/github/dragdowl1/s_devices/blob/main/Yulia_Draginda/Tesseract_SNILs_dict_v2.ipynb\" target=\"_parent\"><img src=\"https://colab.research.google.com/assets/colab-badge.svg\" alt=\"Open In Colab\"/></a>"
      ]
    },
    {
      "cell_type": "markdown",
      "source": [
        "### Распознавание фио в СНИЛс с помощью обученных tesseract и jamspell"
      ],
      "metadata": {
        "id": "HS3g1mshila4"
      }
    },
    {
      "cell_type": "code",
      "source": [
        "%%capture\n",
        "!apt-get -qq install tesseract-ocr     # tesseract    \n",
        "!apt-get -qq install imagemagick  "
      ],
      "metadata": {
        "id": "UbAZRa6J0Rjf"
      },
      "execution_count": null,
      "outputs": []
    },
    {
      "cell_type": "code",
      "source": [
        "%%capture\n",
        "!pip install pytesseract\n",
        "!pip install Pillow==9.0.0\n",
        "# restart runtime"
      ],
      "metadata": {
        "id": "jseGZXzpys7n"
      },
      "execution_count": null,
      "outputs": []
    },
    {
      "cell_type": "code",
      "source": [
        "%%capture\n",
        "!pip install rapidfuzz\n",
        "!pip install swig==3.0.6 # нужен именно swig3\n",
        "!pip install jamspell\n",
        "!pip install jiwer"
      ],
      "metadata": {
        "id": "JS3qlHr-wigp"
      },
      "execution_count": null,
      "outputs": []
    },
    {
      "cell_type": "code",
      "execution_count": null,
      "metadata": {
        "id": "n1ESe61PgKDg"
      },
      "outputs": [],
      "source": [
        "import re\n",
        "import os\n",
        "import csv\n",
        "import PIL\n",
        "import shutil\n",
        "import difflib\n",
        "import jamspell\n",
        "import numpy as np\n",
        "import pytesseract\n",
        "import pandas as pd\n",
        "from pathlib import Path\n",
        "from jiwer import wer, cer\n",
        "from zipfile import ZipFile\n",
        "from pytesseract import Output\n",
        "import matplotlib.pyplot as plt\n",
        "from urllib.request import urlopen\n",
        "from google.colab import files,drive\n",
        "from IPython.display import clear_output\n",
        "from PIL import Image, ImageEnhance, ImageOps"
      ]
    },
    {
      "cell_type": "markdown",
      "source": [
        "### Загрузка данных"
      ],
      "metadata": {
        "id": "2MPG1Kvt0mym"
      }
    },
    {
      "cell_type": "code",
      "source": [
        "# Датасет СНИЛс\n",
        "file_url = ' https://draginda.org/internship_materials/Clean_snils_data.zip'\n",
        "file_path='/content/' \n",
        "\n",
        "zipresp = urlopen(file_url)    \n",
        "tempzip = open(\"/tmp/tempfile.zip\", \"wb\") \n",
        "tempzip.write(zipresp.read())\n",
        "tempzip.close()\n",
        "    \n",
        "zf = ZipFile(\"/tmp/tempfile.zip\")     \n",
        "zf.extractall(path = file_path) \n",
        "zf.close()"
      ],
      "metadata": {
        "id": "ATw3vGVZkmAS"
      },
      "execution_count": null,
      "outputs": []
    },
    {
      "cell_type": "code",
      "source": [
        "# провекрка уникальных символов\n",
        "df_check = pd.read_csv('/content/clean_snils_labels.csv', sep=',')\n",
        "letters = df_check[['fio1', 'fio2', 'fio3']].dropna()\n",
        "b = pd.unique(letters.values.ravel()).tolist()\n",
        "unique_chars = list(set().union(*b))\n",
        "print(unique_chars)"
      ],
      "metadata": {
        "colab": {
          "base_uri": "https://localhost:8080/"
        },
        "id": "LV6unFt8krhQ",
        "outputId": "020bf4d3-49a1-431a-f075-20b39cb68d6d"
      },
      "execution_count": null,
      "outputs": [
        {
          "output_type": "stream",
          "name": "stdout",
          "text": [
            "['Я', 'Ы', 'З', 'Э', 'Т', 'Ш', 'Ц', 'Ё', 'Х', 'Г', 'П', 'У', 'Ф', 'Е', 'Д', 'Б', 'К', '-', 'Н', 'И', 'Ж', 'Ь', 'М', 'Ю', 'С', 'А', 'О', 'Ч', 'В', 'Й', 'Л', 'Р']\n"
          ]
        }
      ]
    },
    {
      "cell_type": "code",
      "source": [
        "# загрузка модели, обученной на словаре фио для tesseracta\n",
        "!wget  https://draginda.org/internship_materials/fio_rus.traineddata\n",
        "clear_output()"
      ],
      "metadata": {
        "id": "zcyEhCcS1LJG"
      },
      "execution_count": null,
      "outputs": []
    },
    {
      "cell_type": "code",
      "source": [
        "# загрузка обученной модели фио для автокорректировщика jamspell\n",
        "!wget  https://draginda.org/internship_materials/model_rus_fio.bin\n",
        "clear_output()"
      ],
      "metadata": {
        "id": "IMcdBuThwdc2"
      },
      "execution_count": null,
      "outputs": []
    },
    {
      "cell_type": "code",
      "source": [
        "# загрузки отдельных моделей для имен, фамилий и отчеств для jamspell\n",
        "!wget  https://draginda.org/internship_materials/model_rus_names.bin\n",
        "!wget  https://draginda.org/internship_materials/model_rus_surnames.bin\n",
        "!wget  https://draginda.org/internship_materials/model_rus_midnames.bin\n",
        "clear_output()"
      ],
      "metadata": {
        "id": "jKAs-M2ceGMm"
      },
      "execution_count": null,
      "outputs": []
    },
    {
      "cell_type": "markdown",
      "source": [
        "## Подготовка файлов для tesseract и jamspell"
      ],
      "metadata": {
        "id": "NnsoM63Z1jY1"
      }
    },
    {
      "cell_type": "code",
      "source": [
        "# файл с моделью копируем в папку tessdata\n",
        "src = '/content/fio_rus.traineddata'\n",
        "dst = '/usr/share/tesseract-ocr/4.00/tessdata/'\n",
        "shutil.copy2(src, dst)"
      ],
      "metadata": {
        "colab": {
          "base_uri": "https://localhost:8080/",
          "height": 36
        },
        "id": "kpHuV-zd1sFZ",
        "outputId": "bc7a43ab-0f54-46b7-e962-d68a70d4be52"
      },
      "execution_count": null,
      "outputs": [
        {
          "output_type": "execute_result",
          "data": {
            "text/plain": [
              "'/usr/share/tesseract-ocr/4.00/tessdata/fio_rus.traineddata'"
            ],
            "application/vnd.google.colaboratory.intrinsic+json": {
              "type": "string"
            }
          },
          "metadata": {},
          "execution_count": 12
        }
      ]
    },
    {
      "cell_type": "code",
      "source": [
        "# создаем экземпляр класса корректироващика для фио и подгружаем обученную модель\n",
        "jam_model_path = '/content/model_rus_fio.bin'\n",
        "g_corrector = jamspell.TSpellCorrector()\n",
        "g_corrector.LoadLangModel(jam_model_path)"
      ],
      "metadata": {
        "colab": {
          "base_uri": "https://localhost:8080/"
        },
        "id": "1AShIa902gS7",
        "outputId": "05c371ee-a126-4f4f-f70d-134ebdcfa2fe"
      },
      "execution_count": null,
      "outputs": [
        {
          "output_type": "execute_result",
          "data": {
            "text/plain": [
              "True"
            ]
          },
          "metadata": {},
          "execution_count": 13
        }
      ]
    },
    {
      "cell_type": "markdown",
      "source": [
        "## Подбор параметров"
      ],
      "metadata": {
        "id": "X9OgJnee2me2"
      }
    },
    {
      "cell_type": "code",
      "source": [
        "!tesseract --help-psm "
      ],
      "metadata": {
        "colab": {
          "base_uri": "https://localhost:8080/"
        },
        "id": "HRwXIVfA2o3X",
        "outputId": "21017fdf-77c1-42cb-b1a5-dd78762cb8a7"
      },
      "execution_count": null,
      "outputs": [
        {
          "output_type": "stream",
          "name": "stdout",
          "text": [
            "Page segmentation modes:\n",
            "  0    Orientation and script detection (OSD) only.\n",
            "  1    Automatic page segmentation with OSD.\n",
            "  2    Automatic page segmentation, but no OSD, or OCR. (not implemented)\n",
            "  3    Fully automatic page segmentation, but no OSD. (Default)\n",
            "  4    Assume a single column of text of variable sizes.\n",
            "  5    Assume a single uniform block of vertically aligned text.\n",
            "  6    Assume a single uniform block of text.\n",
            "  7    Treat the image as a single text line.\n",
            "  8    Treat the image as a single word.\n",
            "  9    Treat the image as a single word in a circle.\n",
            " 10    Treat the image as a single character.\n",
            " 11    Sparse text. Find as much text as possible in no particular order.\n",
            " 12    Sparse text with OSD.\n",
            " 13    Raw line. Treat the image as a single text line,\n",
            "       bypassing hacks that are Tesseract-specific.\n"
          ]
        }
      ]
    },
    {
      "cell_type": "code",
      "source": [
        "!tesseract --help-oem"
      ],
      "metadata": {
        "colab": {
          "base_uri": "https://localhost:8080/"
        },
        "id": "UcaIJdHJ2rts",
        "outputId": "5c03b1c5-83e0-4b88-8356-1ff9381df2bd"
      },
      "execution_count": null,
      "outputs": [
        {
          "output_type": "stream",
          "name": "stdout",
          "text": [
            "OCR Engine modes: (see https://github.com/tesseract-ocr/tesseract/wiki#linux)\n",
            "  0    Legacy engine only.\n",
            "  1    Neural nets LSTM engine only.\n",
            "  2    Legacy + LSTM engines.\n",
            "  3    Default, based on what is available.\n"
          ]
        }
      ]
    },
    {
      "cell_type": "markdown",
      "source": [
        "## Распознавание текстовых полей"
      ],
      "metadata": {
        "id": "J6k20ZWk22wO"
      }
    },
    {
      "cell_type": "code",
      "source": [
        "def calculate_accuracy(str1, str2):\n",
        "    result = difflib.SequenceMatcher(None, str1, str2)\n",
        "    return round(result.ratio(), 4)"
      ],
      "metadata": {
        "id": "FyKKWAUk4iG3"
      },
      "execution_count": null,
      "outputs": []
    },
    {
      "cell_type": "code",
      "source": [
        "def recognize_text(images_path, labels_path, custom_config, WS, autocorr=False):\n",
        "\n",
        "  counter = 0\n",
        "  accs = []\n",
        "  wers = []\n",
        "  cers = []\n",
        "  ws = WS+' '\n",
        "  wl = set(ws)\n",
        "  bad_full_dict = {}\n",
        "  list_names= os.listdir(images_path)\n",
        "\n",
        "\n",
        "  for ll in list_names:\n",
        "    if 'fio' in ll:\n",
        "      if counter>1:\n",
        "        print(\"prev\", acc, w, c)\n",
        "      im_key = ll.split('.')[0]\n",
        "      im_path = images_path+ll\n",
        "      print(im_path)\n",
        "\n",
        "      if os.path.isfile(im_path):\n",
        "        lab_path = labels_path+im_key+\".txt\"\n",
        "        with open(lab_path) as f:\n",
        "          label = f.read()\n",
        "          print(label)\n",
        "\n",
        "        im = Image.open(im_path)\n",
        "        # img = ImageOps.expand(im, border=4, fill='white') # не помогает\n",
        "        # filter = ImageEnhance.Brightness(img) улучшение яркости\n",
        "        # img = img.filter(1.2)\n",
        "        # enhancer = ImageEnhance.Contrast(img)\n",
        "        # contrast = 2  # коэффициент контрастности\n",
        "        # img = enhancer.enhance(contrast)\n",
        "        plt.imshow(im, cmap = 'gray')\n",
        "        plt.axis('off')\n",
        "        plt.show()\n",
        "\n",
        "        ss = pytesseract.image_to_string(im, config = custom_config)\n",
        "        result = ''.join([c for c in ss if c in wl])\n",
        "        \n",
        "        if autocorr:\n",
        "            result = g_corrector.FixFragment(result)\n",
        "        print(result)\n",
        "        acc = calculate_accuracy(result, label)\n",
        "        if result != \"\" and label !=\"\":\n",
        "          w = wer(result, label)\n",
        "          c = cer(result,label)      \n",
        "          wers.append(w)\n",
        "          cers.append(c)\n",
        "        print(acc, w, c)\n",
        "\n",
        "        if acc<1:\n",
        "          bad_dict = {}\n",
        "          bad_dict['label']=label\n",
        "          bad_dict['rec_res']=result\n",
        "          bad_dict['acc'] =  acc       \n",
        "          bad_full_dict[im_path] = bad_dict  \n",
        "        clear_output()\n",
        "        accs.append(acc) \n",
        "        counter+=1\n",
        "        # if counter == 2: # debug\n",
        "        #   break\n",
        "\n",
        "  return bad_full_dict, accs, wers, cers "
      ],
      "metadata": {
        "id": "XiDXWbt_3VNb"
      },
      "execution_count": null,
      "outputs": []
    },
    {
      "cell_type": "code",
      "source": [
        "images_path = '/content/clean_snils_regions/'\n",
        "labels_path = '/content/clean_snils_regions_labels/'\n",
        "\n",
        "WS = 'АБВГДЕЁЖЗИЙКЛМНОПРСТУФХЦЧШЩЪЫЬЭЮЯ'\n",
        "custom_config = r'-c tessedit_char_whitelist=АБВГДЕЁЖЗИЙКЛМНОПРСТУФХЦЧШЩЪЫЬЭЮЯ --oem 1 -l fio_rus --psm 8  --dpi 500' # параметры распознавания tesseract для текстовый полей\n",
        "\n",
        "bad_full_dict, accs, wers, cers  = recognize_text(images_path, labels_path, custom_config, WS, autocorr=False)"
      ],
      "metadata": {
        "id": "Fjmw-zw9yMto"
      },
      "execution_count": null,
      "outputs": []
    },
    {
      "cell_type": "code",
      "source": [
        "print(\"Результаты без модели автозамены:\\n\")\n",
        "print(\"Точность распознавания для текстовых полей СНИЛс:\", np.round(sum(accs)/len((accs)),3))\n",
        "print(\"Ошибка WER для текстовых полей СНИЛс:\", np.round(sum(wers)/len((wers)),3))\n",
        "print(\"Ошибка CER для текстовых полей СНИЛс:\", np.round(sum(cers)/len((cers)),3))"
      ],
      "metadata": {
        "colab": {
          "base_uri": "https://localhost:8080/"
        },
        "id": "jkSfQ0EScUhe",
        "outputId": "bd4a9baa-54fb-4d69-8c1f-4afc7e830a56"
      },
      "execution_count": null,
      "outputs": [
        {
          "output_type": "stream",
          "name": "stdout",
          "text": [
            "Результаты без модели автозамены:\n",
            "\n",
            "Точность распознавания для текстовых полей СНИЛс: 0.976\n",
            "Ошибка WER для текстовых полей СНИЛс: 0.1\n",
            "Ошибка CER для текстовых полей СНИЛс: 0.05\n"
          ]
        }
      ]
    },
    {
      "cell_type": "code",
      "source": [
        "# то, что не распозналось - пример\n",
        "df = pd.DataFrame(bad_full_dict)\n",
        "d1 = df.transpose()\n",
        "d1.head(10)"
      ],
      "metadata": {
        "colab": {
          "base_uri": "https://localhost:8080/",
          "height": 363
        },
        "id": "NNGon-rBCYip",
        "outputId": "cdff0308-1585-426b-9b6b-1373d19de107"
      },
      "execution_count": null,
      "outputs": [
        {
          "output_type": "execute_result",
          "data": {
            "text/plain": [
              "                                                  label       rec_res     acc\n",
              "/content/clean_snils_regions/197_fio3.jpg  ВЕНИАМИНОВНА  ВЕНИДНИНОВНА  0.8333\n",
              "/content/clean_snils_regions/283_fio2.jpg         ПАВЕЛ                   0.0\n",
              "/content/clean_snils_regions/9_fio3.jpg         ЮРЬЕВИЧ        ЮРЪЕВИ  0.7692\n",
              "/content/clean_snils_regions/80_fio2.jpg           АННА           ННЯ  0.5714\n",
              "/content/clean_snils_regions/191_fio3.jpg     ИЗЗЕТОВИЧ      ИЗЗЕТОВИ  0.9412\n",
              "/content/clean_snils_regions/245_fio3.jpg     ХАРИСОВНА     ХОРИСОВНЯ  0.7778\n",
              "/content/clean_snils_regions/139_fio3.jpg    АЛЕКСЕЕВНА     АЛЕКСВЕРО  0.6316\n",
              "/content/clean_snils_regions/108_fio1.jpg     ЗАЛИБЕКОВ    ЭЗАЛИБЕКОВ  0.9474\n",
              "/content/clean_snils_regions/267_fio3.jpg    АЛЕКСЕЕВНА    АЛВКСВЕВНА     0.8\n",
              "/content/clean_snils_regions/158_fio2.jpg        АНДРЕЙ             А  0.2857"
            ],
            "text/html": [
              "\n",
              "  <div id=\"df-6ced7ddd-12c5-44f7-9901-109bf696af1b\">\n",
              "    <div class=\"colab-df-container\">\n",
              "      <div>\n",
              "<style scoped>\n",
              "    .dataframe tbody tr th:only-of-type {\n",
              "        vertical-align: middle;\n",
              "    }\n",
              "\n",
              "    .dataframe tbody tr th {\n",
              "        vertical-align: top;\n",
              "    }\n",
              "\n",
              "    .dataframe thead th {\n",
              "        text-align: right;\n",
              "    }\n",
              "</style>\n",
              "<table border=\"1\" class=\"dataframe\">\n",
              "  <thead>\n",
              "    <tr style=\"text-align: right;\">\n",
              "      <th></th>\n",
              "      <th>label</th>\n",
              "      <th>rec_res</th>\n",
              "      <th>acc</th>\n",
              "    </tr>\n",
              "  </thead>\n",
              "  <tbody>\n",
              "    <tr>\n",
              "      <th>/content/clean_snils_regions/197_fio3.jpg</th>\n",
              "      <td>ВЕНИАМИНОВНА</td>\n",
              "      <td>ВЕНИДНИНОВНА</td>\n",
              "      <td>0.8333</td>\n",
              "    </tr>\n",
              "    <tr>\n",
              "      <th>/content/clean_snils_regions/283_fio2.jpg</th>\n",
              "      <td>ПАВЕЛ</td>\n",
              "      <td></td>\n",
              "      <td>0.0</td>\n",
              "    </tr>\n",
              "    <tr>\n",
              "      <th>/content/clean_snils_regions/9_fio3.jpg</th>\n",
              "      <td>ЮРЬЕВИЧ</td>\n",
              "      <td>ЮРЪЕВИ</td>\n",
              "      <td>0.7692</td>\n",
              "    </tr>\n",
              "    <tr>\n",
              "      <th>/content/clean_snils_regions/80_fio2.jpg</th>\n",
              "      <td>АННА</td>\n",
              "      <td>ННЯ</td>\n",
              "      <td>0.5714</td>\n",
              "    </tr>\n",
              "    <tr>\n",
              "      <th>/content/clean_snils_regions/191_fio3.jpg</th>\n",
              "      <td>ИЗЗЕТОВИЧ</td>\n",
              "      <td>ИЗЗЕТОВИ</td>\n",
              "      <td>0.9412</td>\n",
              "    </tr>\n",
              "    <tr>\n",
              "      <th>/content/clean_snils_regions/245_fio3.jpg</th>\n",
              "      <td>ХАРИСОВНА</td>\n",
              "      <td>ХОРИСОВНЯ</td>\n",
              "      <td>0.7778</td>\n",
              "    </tr>\n",
              "    <tr>\n",
              "      <th>/content/clean_snils_regions/139_fio3.jpg</th>\n",
              "      <td>АЛЕКСЕЕВНА</td>\n",
              "      <td>АЛЕКСВЕРО</td>\n",
              "      <td>0.6316</td>\n",
              "    </tr>\n",
              "    <tr>\n",
              "      <th>/content/clean_snils_regions/108_fio1.jpg</th>\n",
              "      <td>ЗАЛИБЕКОВ</td>\n",
              "      <td>ЭЗАЛИБЕКОВ</td>\n",
              "      <td>0.9474</td>\n",
              "    </tr>\n",
              "    <tr>\n",
              "      <th>/content/clean_snils_regions/267_fio3.jpg</th>\n",
              "      <td>АЛЕКСЕЕВНА</td>\n",
              "      <td>АЛВКСВЕВНА</td>\n",
              "      <td>0.8</td>\n",
              "    </tr>\n",
              "    <tr>\n",
              "      <th>/content/clean_snils_regions/158_fio2.jpg</th>\n",
              "      <td>АНДРЕЙ</td>\n",
              "      <td>А</td>\n",
              "      <td>0.2857</td>\n",
              "    </tr>\n",
              "  </tbody>\n",
              "</table>\n",
              "</div>\n",
              "      <button class=\"colab-df-convert\" onclick=\"convertToInteractive('df-6ced7ddd-12c5-44f7-9901-109bf696af1b')\"\n",
              "              title=\"Convert this dataframe to an interactive table.\"\n",
              "              style=\"display:none;\">\n",
              "        \n",
              "  <svg xmlns=\"http://www.w3.org/2000/svg\" height=\"24px\"viewBox=\"0 0 24 24\"\n",
              "       width=\"24px\">\n",
              "    <path d=\"M0 0h24v24H0V0z\" fill=\"none\"/>\n",
              "    <path d=\"M18.56 5.44l.94 2.06.94-2.06 2.06-.94-2.06-.94-.94-2.06-.94 2.06-2.06.94zm-11 1L8.5 8.5l.94-2.06 2.06-.94-2.06-.94L8.5 2.5l-.94 2.06-2.06.94zm10 10l.94 2.06.94-2.06 2.06-.94-2.06-.94-.94-2.06-.94 2.06-2.06.94z\"/><path d=\"M17.41 7.96l-1.37-1.37c-.4-.4-.92-.59-1.43-.59-.52 0-1.04.2-1.43.59L10.3 9.45l-7.72 7.72c-.78.78-.78 2.05 0 2.83L4 21.41c.39.39.9.59 1.41.59.51 0 1.02-.2 1.41-.59l7.78-7.78 2.81-2.81c.8-.78.8-2.07 0-2.86zM5.41 20L4 18.59l7.72-7.72 1.47 1.35L5.41 20z\"/>\n",
              "  </svg>\n",
              "      </button>\n",
              "      \n",
              "  <style>\n",
              "    .colab-df-container {\n",
              "      display:flex;\n",
              "      flex-wrap:wrap;\n",
              "      gap: 12px;\n",
              "    }\n",
              "\n",
              "    .colab-df-convert {\n",
              "      background-color: #E8F0FE;\n",
              "      border: none;\n",
              "      border-radius: 50%;\n",
              "      cursor: pointer;\n",
              "      display: none;\n",
              "      fill: #1967D2;\n",
              "      height: 32px;\n",
              "      padding: 0 0 0 0;\n",
              "      width: 32px;\n",
              "    }\n",
              "\n",
              "    .colab-df-convert:hover {\n",
              "      background-color: #E2EBFA;\n",
              "      box-shadow: 0px 1px 2px rgba(60, 64, 67, 0.3), 0px 1px 3px 1px rgba(60, 64, 67, 0.15);\n",
              "      fill: #174EA6;\n",
              "    }\n",
              "\n",
              "    [theme=dark] .colab-df-convert {\n",
              "      background-color: #3B4455;\n",
              "      fill: #D2E3FC;\n",
              "    }\n",
              "\n",
              "    [theme=dark] .colab-df-convert:hover {\n",
              "      background-color: #434B5C;\n",
              "      box-shadow: 0px 1px 3px 1px rgba(0, 0, 0, 0.15);\n",
              "      filter: drop-shadow(0px 1px 2px rgba(0, 0, 0, 0.3));\n",
              "      fill: #FFFFFF;\n",
              "    }\n",
              "  </style>\n",
              "\n",
              "      <script>\n",
              "        const buttonEl =\n",
              "          document.querySelector('#df-6ced7ddd-12c5-44f7-9901-109bf696af1b button.colab-df-convert');\n",
              "        buttonEl.style.display =\n",
              "          google.colab.kernel.accessAllowed ? 'block' : 'none';\n",
              "\n",
              "        async function convertToInteractive(key) {\n",
              "          const element = document.querySelector('#df-6ced7ddd-12c5-44f7-9901-109bf696af1b');\n",
              "          const dataTable =\n",
              "            await google.colab.kernel.invokeFunction('convertToInteractive',\n",
              "                                                     [key], {});\n",
              "          if (!dataTable) return;\n",
              "\n",
              "          const docLinkHtml = 'Like what you see? Visit the ' +\n",
              "            '<a target=\"_blank\" href=https://colab.research.google.com/notebooks/data_table.ipynb>data table notebook</a>'\n",
              "            + ' to learn more about interactive tables.';\n",
              "          element.innerHTML = '';\n",
              "          dataTable['output_type'] = 'display_data';\n",
              "          await google.colab.output.renderOutput(dataTable, element);\n",
              "          const docLink = document.createElement('div');\n",
              "          docLink.innerHTML = docLinkHtml;\n",
              "          element.appendChild(docLink);\n",
              "        }\n",
              "      </script>\n",
              "    </div>\n",
              "  </div>\n",
              "  "
            ]
          },
          "metadata": {},
          "execution_count": 62
        }
      ]
    },
    {
      "cell_type": "markdown",
      "source": [
        "### Распознавание с помощью обученного автокорректировщика"
      ],
      "metadata": {
        "id": "zLBuHiblxMRZ"
      }
    },
    {
      "cell_type": "code",
      "source": [
        "bad_full_dict, accs, wers, cers  = recognize_text(images_path, labels_path, custom_config, WS, autocorr=True)"
      ],
      "metadata": {
        "id": "SxTATE2axLaJ"
      },
      "execution_count": null,
      "outputs": []
    },
    {
      "cell_type": "code",
      "source": [
        "print(\"Результаты при подключении обученной модели автозамены:\\n\")\n",
        "print(\"Точность распознавания для текстовых полей СНИЛс:\", np.round(sum(accs)/len((accs)),3))\n",
        "print(\"Ошибка WER для текстовых полей СНИЛс:\", np.round(sum(wers)/len((wers)),3))\n",
        "print(\"Ошибка CER для текстовых полей СНИЛс:\", np.round(sum(cers)/len((cers)),3))"
      ],
      "metadata": {
        "colab": {
          "base_uri": "https://localhost:8080/"
        },
        "id": "3scZfVHN2ote",
        "outputId": "d9699a88-2e88-44e7-a004-8e181cdfd424"
      },
      "execution_count": null,
      "outputs": [
        {
          "output_type": "stream",
          "name": "stdout",
          "text": [
            "Результаты при подключении обученной модели автозамены:\n",
            "\n",
            "Точность распознавания для текстовых полей СНИЛс: 0.977\n",
            "Ошибка WER для текстовых полей СНИЛс: 0.077\n",
            "Ошибка CER для текстовых полей СНИЛс: 0.053\n"
          ]
        }
      ]
    },
    {
      "cell_type": "code",
      "source": [
        "# то, что не распозналось\n",
        "df = pd.DataFrame(bad_full_dict)\n",
        "d1 = df.transpose()\n",
        "d1.head(10)"
      ],
      "metadata": {
        "colab": {
          "base_uri": "https://localhost:8080/",
          "height": 363
        },
        "id": "aIQ9pPwI2v1G",
        "outputId": "e27370eb-bf44-4791-d2e7-eb29353e40fd"
      },
      "execution_count": null,
      "outputs": [
        {
          "output_type": "execute_result",
          "data": {
            "text/plain": [
              "                                                label    rec_res     acc\n",
              "/content/clean_snils_regions/229_fio1.jpg      ДОНГАА     ДОНГАК  0.8333\n",
              "/content/clean_snils_regions/283_fio2.jpg       ПАВЕЛ                0.0\n",
              "/content/clean_snils_regions/9_fio3.jpg       ЮРЬЕВИЧ      ЮРЬЕВ  0.8333\n",
              "/content/clean_snils_regions/80_fio2.jpg         АННА        АНЯ  0.5714\n",
              "/content/clean_snils_regions/245_fio3.jpg   ХАРИСОВНА  БОРИСОВНА  0.7778\n",
              "/content/clean_snils_regions/139_fio3.jpg  АЛЕКСЕЕВНА  АЛЕКПЕРОВ  0.6316\n",
              "/content/clean_snils_regions/108_fio1.jpg   ЗАЛИБЕКОВ   АЛИБЕКОВ  0.9412\n",
              "/content/clean_snils_regions/206_fio1.jpg     БРАЙЧУК     РАЙЧУК  0.9231\n",
              "/content/clean_snils_regions/158_fio2.jpg      АНДРЕЙ          А  0.2857\n",
              "/content/clean_snils_regions/231_fio1.jpg    КУНТЕЕВА   КУРТЕЕВА   0.875"
            ],
            "text/html": [
              "\n",
              "  <div id=\"df-8d5d3b7d-7160-4935-9bd2-eb2525646357\">\n",
              "    <div class=\"colab-df-container\">\n",
              "      <div>\n",
              "<style scoped>\n",
              "    .dataframe tbody tr th:only-of-type {\n",
              "        vertical-align: middle;\n",
              "    }\n",
              "\n",
              "    .dataframe tbody tr th {\n",
              "        vertical-align: top;\n",
              "    }\n",
              "\n",
              "    .dataframe thead th {\n",
              "        text-align: right;\n",
              "    }\n",
              "</style>\n",
              "<table border=\"1\" class=\"dataframe\">\n",
              "  <thead>\n",
              "    <tr style=\"text-align: right;\">\n",
              "      <th></th>\n",
              "      <th>label</th>\n",
              "      <th>rec_res</th>\n",
              "      <th>acc</th>\n",
              "    </tr>\n",
              "  </thead>\n",
              "  <tbody>\n",
              "    <tr>\n",
              "      <th>/content/clean_snils_regions/229_fio1.jpg</th>\n",
              "      <td>ДОНГАА</td>\n",
              "      <td>ДОНГАК</td>\n",
              "      <td>0.8333</td>\n",
              "    </tr>\n",
              "    <tr>\n",
              "      <th>/content/clean_snils_regions/283_fio2.jpg</th>\n",
              "      <td>ПАВЕЛ</td>\n",
              "      <td></td>\n",
              "      <td>0.0</td>\n",
              "    </tr>\n",
              "    <tr>\n",
              "      <th>/content/clean_snils_regions/9_fio3.jpg</th>\n",
              "      <td>ЮРЬЕВИЧ</td>\n",
              "      <td>ЮРЬЕВ</td>\n",
              "      <td>0.8333</td>\n",
              "    </tr>\n",
              "    <tr>\n",
              "      <th>/content/clean_snils_regions/80_fio2.jpg</th>\n",
              "      <td>АННА</td>\n",
              "      <td>АНЯ</td>\n",
              "      <td>0.5714</td>\n",
              "    </tr>\n",
              "    <tr>\n",
              "      <th>/content/clean_snils_regions/245_fio3.jpg</th>\n",
              "      <td>ХАРИСОВНА</td>\n",
              "      <td>БОРИСОВНА</td>\n",
              "      <td>0.7778</td>\n",
              "    </tr>\n",
              "    <tr>\n",
              "      <th>/content/clean_snils_regions/139_fio3.jpg</th>\n",
              "      <td>АЛЕКСЕЕВНА</td>\n",
              "      <td>АЛЕКПЕРОВ</td>\n",
              "      <td>0.6316</td>\n",
              "    </tr>\n",
              "    <tr>\n",
              "      <th>/content/clean_snils_regions/108_fio1.jpg</th>\n",
              "      <td>ЗАЛИБЕКОВ</td>\n",
              "      <td>АЛИБЕКОВ</td>\n",
              "      <td>0.9412</td>\n",
              "    </tr>\n",
              "    <tr>\n",
              "      <th>/content/clean_snils_regions/206_fio1.jpg</th>\n",
              "      <td>БРАЙЧУК</td>\n",
              "      <td>РАЙЧУК</td>\n",
              "      <td>0.9231</td>\n",
              "    </tr>\n",
              "    <tr>\n",
              "      <th>/content/clean_snils_regions/158_fio2.jpg</th>\n",
              "      <td>АНДРЕЙ</td>\n",
              "      <td>А</td>\n",
              "      <td>0.2857</td>\n",
              "    </tr>\n",
              "    <tr>\n",
              "      <th>/content/clean_snils_regions/231_fio1.jpg</th>\n",
              "      <td>КУНТЕЕВА</td>\n",
              "      <td>КУРТЕЕВА</td>\n",
              "      <td>0.875</td>\n",
              "    </tr>\n",
              "  </tbody>\n",
              "</table>\n",
              "</div>\n",
              "      <button class=\"colab-df-convert\" onclick=\"convertToInteractive('df-8d5d3b7d-7160-4935-9bd2-eb2525646357')\"\n",
              "              title=\"Convert this dataframe to an interactive table.\"\n",
              "              style=\"display:none;\">\n",
              "        \n",
              "  <svg xmlns=\"http://www.w3.org/2000/svg\" height=\"24px\"viewBox=\"0 0 24 24\"\n",
              "       width=\"24px\">\n",
              "    <path d=\"M0 0h24v24H0V0z\" fill=\"none\"/>\n",
              "    <path d=\"M18.56 5.44l.94 2.06.94-2.06 2.06-.94-2.06-.94-.94-2.06-.94 2.06-2.06.94zm-11 1L8.5 8.5l.94-2.06 2.06-.94-2.06-.94L8.5 2.5l-.94 2.06-2.06.94zm10 10l.94 2.06.94-2.06 2.06-.94-2.06-.94-.94-2.06-.94 2.06-2.06.94z\"/><path d=\"M17.41 7.96l-1.37-1.37c-.4-.4-.92-.59-1.43-.59-.52 0-1.04.2-1.43.59L10.3 9.45l-7.72 7.72c-.78.78-.78 2.05 0 2.83L4 21.41c.39.39.9.59 1.41.59.51 0 1.02-.2 1.41-.59l7.78-7.78 2.81-2.81c.8-.78.8-2.07 0-2.86zM5.41 20L4 18.59l7.72-7.72 1.47 1.35L5.41 20z\"/>\n",
              "  </svg>\n",
              "      </button>\n",
              "      \n",
              "  <style>\n",
              "    .colab-df-container {\n",
              "      display:flex;\n",
              "      flex-wrap:wrap;\n",
              "      gap: 12px;\n",
              "    }\n",
              "\n",
              "    .colab-df-convert {\n",
              "      background-color: #E8F0FE;\n",
              "      border: none;\n",
              "      border-radius: 50%;\n",
              "      cursor: pointer;\n",
              "      display: none;\n",
              "      fill: #1967D2;\n",
              "      height: 32px;\n",
              "      padding: 0 0 0 0;\n",
              "      width: 32px;\n",
              "    }\n",
              "\n",
              "    .colab-df-convert:hover {\n",
              "      background-color: #E2EBFA;\n",
              "      box-shadow: 0px 1px 2px rgba(60, 64, 67, 0.3), 0px 1px 3px 1px rgba(60, 64, 67, 0.15);\n",
              "      fill: #174EA6;\n",
              "    }\n",
              "\n",
              "    [theme=dark] .colab-df-convert {\n",
              "      background-color: #3B4455;\n",
              "      fill: #D2E3FC;\n",
              "    }\n",
              "\n",
              "    [theme=dark] .colab-df-convert:hover {\n",
              "      background-color: #434B5C;\n",
              "      box-shadow: 0px 1px 3px 1px rgba(0, 0, 0, 0.15);\n",
              "      filter: drop-shadow(0px 1px 2px rgba(0, 0, 0, 0.3));\n",
              "      fill: #FFFFFF;\n",
              "    }\n",
              "  </style>\n",
              "\n",
              "      <script>\n",
              "        const buttonEl =\n",
              "          document.querySelector('#df-8d5d3b7d-7160-4935-9bd2-eb2525646357 button.colab-df-convert');\n",
              "        buttonEl.style.display =\n",
              "          google.colab.kernel.accessAllowed ? 'block' : 'none';\n",
              "\n",
              "        async function convertToInteractive(key) {\n",
              "          const element = document.querySelector('#df-8d5d3b7d-7160-4935-9bd2-eb2525646357');\n",
              "          const dataTable =\n",
              "            await google.colab.kernel.invokeFunction('convertToInteractive',\n",
              "                                                     [key], {});\n",
              "          if (!dataTable) return;\n",
              "\n",
              "          const docLinkHtml = 'Like what you see? Visit the ' +\n",
              "            '<a target=\"_blank\" href=https://colab.research.google.com/notebooks/data_table.ipynb>data table notebook</a>'\n",
              "            + ' to learn more about interactive tables.';\n",
              "          element.innerHTML = '';\n",
              "          dataTable['output_type'] = 'display_data';\n",
              "          await google.colab.output.renderOutput(dataTable, element);\n",
              "          const docLink = document.createElement('div');\n",
              "          docLink.innerHTML = docLinkHtml;\n",
              "          element.appendChild(docLink);\n",
              "        }\n",
              "      </script>\n",
              "    </div>\n",
              "  </div>\n",
              "  "
            ]
          },
          "metadata": {},
          "execution_count": 65
        }
      ]
    },
    {
      "cell_type": "markdown",
      "source": [
        "### Распознавание с помощью отдельных моделей для имён, фамилий и отчеств"
      ],
      "metadata": {
        "id": "SV3dThnhCgdL"
      }
    },
    {
      "cell_type": "code",
      "source": [
        "# создаем отдельные экземпляры класса корректировщика для разных моделей\n",
        "name_model_path = '/content/model_rus_names.bin'\n",
        "g_name = jamspell.TSpellCorrector()\n",
        "g_name.LoadLangModel(name_model_path)\n",
        "\n",
        "surname_model_path = '/content/model_rus_surnames.bin'\n",
        "g_surname = jamspell.TSpellCorrector()\n",
        "g_surname.LoadLangModel(surname_model_path)\n",
        "\n",
        "midname_model_path = '/content/model_rus_midnames.bin'\n",
        "g_midname = jamspell.TSpellCorrector()\n",
        "g_midname.LoadLangModel(midname_model_path)"
      ],
      "metadata": {
        "colab": {
          "base_uri": "https://localhost:8080/"
        },
        "id": "v1PxtbVJepj_",
        "outputId": "969c8c9f-437a-4cc3-b729-eba8fd8666e4"
      },
      "execution_count": null,
      "outputs": [
        {
          "output_type": "execute_result",
          "data": {
            "text/plain": [
              "True"
            ]
          },
          "metadata": {},
          "execution_count": 73
        }
      ]
    },
    {
      "cell_type": "code",
      "source": [
        "def recognize_text_by_fio(images_path, labels_path, custom_config, WS, autocorr=True):\n",
        "\n",
        "  counter = 0\n",
        "  accs = []\n",
        "  wers = []\n",
        "  cers = []\n",
        "  ws = WS+' '\n",
        "  wl = set(ws)\n",
        "  bad_full_dict = {}\n",
        "  list_names= os.listdir(images_path)\n",
        "\n",
        "\n",
        "  for ll in list_names:\n",
        "    if 'fio' in ll:\n",
        "      if counter>1:\n",
        "        print(\"prev\", acc, w, c)\n",
        "      im_key = ll.split('.')[0]\n",
        "      im_path = images_path+ll\n",
        "      print(im_path)\n",
        "      # print('fio3'in im_key)\n",
        "\n",
        "      if os.path.isfile(im_path):\n",
        "        lab_path = labels_path+im_key+\".txt\"\n",
        "        with open(lab_path) as f:\n",
        "          label = f.read()\n",
        "          print(label)\n",
        "\n",
        "        im = Image.open(im_path)\n",
        "        plt.imshow(im, cmap = 'gray')\n",
        "        plt.axis('off')\n",
        "        plt.show()\n",
        "\n",
        "        ss = pytesseract.image_to_string(im, config = custom_config)\n",
        "        result = ''.join([c for c in ss if c in wl])\n",
        "        \n",
        "        if 'fio1' in im_key:\n",
        "            result = g_surname.FixFragment(result) # фамилия\n",
        "\n",
        "        elif 'fio2' in im_key:\n",
        "            result = g_name.FixFragment(result) # имя\n",
        "\n",
        "        elif 'fio3' in im_key:\n",
        "            result = g_midname.FixFragment(result) # отчество\n",
        "        \n",
        "        print(result)\n",
        "        acc = calculate_accuracy(result, label)\n",
        "        if result != \"\" and label !=\"\":\n",
        "          w = wer(result, label)\n",
        "          c = cer(result,label)      \n",
        "          wers.append(w)\n",
        "          cers.append(c)\n",
        "        print(acc, w, c)\n",
        "\n",
        "        if acc<1:\n",
        "          bad_dict = {}\n",
        "          bad_dict['label']=label\n",
        "          bad_dict['rec_res']=result\n",
        "          bad_dict['acc'] =  acc       \n",
        "          bad_full_dict[im_path] = bad_dict  \n",
        "        clear_output()\n",
        "        accs.append(acc) \n",
        "        counter+=1\n",
        "        # if counter == 2: # debug\n",
        "        #   break\n",
        "\n",
        "  return bad_full_dict, accs, wers, cers "
      ],
      "metadata": {
        "id": "7IbljnWqrcF_"
      },
      "execution_count": null,
      "outputs": []
    },
    {
      "cell_type": "code",
      "source": [
        "# распознавание с отдельными моделями\n",
        "bad_full_dict, accs, wers, cers  = recognize_text_by_fio(images_path, labels_path, custom_config, WS)"
      ],
      "metadata": {
        "id": "-ge5HGMngcDQ"
      },
      "execution_count": null,
      "outputs": []
    },
    {
      "cell_type": "code",
      "source": [
        "print(\"Результаты при подключении трёх отдельных моделей автозамен для имён, фамилий и отчеств:\\n\")\n",
        "print(\"Точность распознавания для текстовых полей СНИЛс:\", np.round(sum(accs)/len((accs)),3))\n",
        "print(\"Ошибка WER для текстовых полей СНИЛс:\", np.round(sum(wers)/len((wers)),3))\n",
        "print(\"Ошибка CER для текстовых полей СНИЛс:\", np.round(sum(cers)/len((cers)),3))"
      ],
      "metadata": {
        "colab": {
          "base_uri": "https://localhost:8080/"
        },
        "id": "xt8esE2Pg0N5",
        "outputId": "1409ab03-0170-4ce4-a21f-539e53294480"
      },
      "execution_count": null,
      "outputs": [
        {
          "output_type": "stream",
          "name": "stdout",
          "text": [
            "Результаты при подключении трёх отдельных моделей автозамен для имён, фамилий и отчеств:\n",
            "\n",
            "Точность распознавания для текстовых полей СНИЛс: 0.975\n",
            "Ошибка WER для текстовых полей СНИЛс: 0.085\n",
            "Ошибка CER для текстовых полей СНИЛс: 0.052\n"
          ]
        }
      ]
    },
    {
      "cell_type": "code",
      "source": [
        "# то, что не распозналось\n",
        "df = pd.DataFrame(bad_full_dict)\n",
        "d1 = df.transpose()\n",
        "d1.head(10)"
      ],
      "metadata": {
        "colab": {
          "base_uri": "https://localhost:8080/",
          "height": 363
        },
        "id": "1uL-Hfkxhro_",
        "outputId": "a684da46-5ebc-4c55-8045-5290a4160d90"
      },
      "execution_count": null,
      "outputs": [
        {
          "output_type": "execute_result",
          "data": {
            "text/plain": [
              "                                                label    rec_res     acc\n",
              "/content/clean_snils_regions/229_fio1.jpg      ДОНГАА     ДОНГАК  0.8333\n",
              "/content/clean_snils_regions/283_fio2.jpg       ПАВЕЛ                0.0\n",
              "/content/clean_snils_regions/80_fio2.jpg         АННА        АНЯ  0.5714\n",
              "/content/clean_snils_regions/245_fio3.jpg   ХАРИСОВНА  БОРИСОВНА  0.7778\n",
              "/content/clean_snils_regions/8_fio1.jpg        АБАССИ     АБАСОВ  0.6667\n",
              "/content/clean_snils_regions/139_fio3.jpg  АЛЕКСЕЕВНА  АЛЕКСВЕРО  0.6316\n",
              "/content/clean_snils_regions/108_fio1.jpg   ЗАЛИБЕКОВ   АЛИБЕКОВ  0.9412\n",
              "/content/clean_snils_regions/206_fio1.jpg     БРАЙЧУК     РАЙЧУК  0.9231\n",
              "/content/clean_snils_regions/158_fio2.jpg      АНДРЕЙ          А  0.2857\n",
              "/content/clean_snils_regions/231_fio1.jpg    КУНТЕЕВА   КУРТЕЕВА   0.875"
            ],
            "text/html": [
              "\n",
              "  <div id=\"df-1ed708fe-02a9-4b4f-ae98-ed54fd6ce35b\">\n",
              "    <div class=\"colab-df-container\">\n",
              "      <div>\n",
              "<style scoped>\n",
              "    .dataframe tbody tr th:only-of-type {\n",
              "        vertical-align: middle;\n",
              "    }\n",
              "\n",
              "    .dataframe tbody tr th {\n",
              "        vertical-align: top;\n",
              "    }\n",
              "\n",
              "    .dataframe thead th {\n",
              "        text-align: right;\n",
              "    }\n",
              "</style>\n",
              "<table border=\"1\" class=\"dataframe\">\n",
              "  <thead>\n",
              "    <tr style=\"text-align: right;\">\n",
              "      <th></th>\n",
              "      <th>label</th>\n",
              "      <th>rec_res</th>\n",
              "      <th>acc</th>\n",
              "    </tr>\n",
              "  </thead>\n",
              "  <tbody>\n",
              "    <tr>\n",
              "      <th>/content/clean_snils_regions/229_fio1.jpg</th>\n",
              "      <td>ДОНГАА</td>\n",
              "      <td>ДОНГАК</td>\n",
              "      <td>0.8333</td>\n",
              "    </tr>\n",
              "    <tr>\n",
              "      <th>/content/clean_snils_regions/283_fio2.jpg</th>\n",
              "      <td>ПАВЕЛ</td>\n",
              "      <td></td>\n",
              "      <td>0.0</td>\n",
              "    </tr>\n",
              "    <tr>\n",
              "      <th>/content/clean_snils_regions/80_fio2.jpg</th>\n",
              "      <td>АННА</td>\n",
              "      <td>АНЯ</td>\n",
              "      <td>0.5714</td>\n",
              "    </tr>\n",
              "    <tr>\n",
              "      <th>/content/clean_snils_regions/245_fio3.jpg</th>\n",
              "      <td>ХАРИСОВНА</td>\n",
              "      <td>БОРИСОВНА</td>\n",
              "      <td>0.7778</td>\n",
              "    </tr>\n",
              "    <tr>\n",
              "      <th>/content/clean_snils_regions/8_fio1.jpg</th>\n",
              "      <td>АБАССИ</td>\n",
              "      <td>АБАСОВ</td>\n",
              "      <td>0.6667</td>\n",
              "    </tr>\n",
              "    <tr>\n",
              "      <th>/content/clean_snils_regions/139_fio3.jpg</th>\n",
              "      <td>АЛЕКСЕЕВНА</td>\n",
              "      <td>АЛЕКСВЕРО</td>\n",
              "      <td>0.6316</td>\n",
              "    </tr>\n",
              "    <tr>\n",
              "      <th>/content/clean_snils_regions/108_fio1.jpg</th>\n",
              "      <td>ЗАЛИБЕКОВ</td>\n",
              "      <td>АЛИБЕКОВ</td>\n",
              "      <td>0.9412</td>\n",
              "    </tr>\n",
              "    <tr>\n",
              "      <th>/content/clean_snils_regions/206_fio1.jpg</th>\n",
              "      <td>БРАЙЧУК</td>\n",
              "      <td>РАЙЧУК</td>\n",
              "      <td>0.9231</td>\n",
              "    </tr>\n",
              "    <tr>\n",
              "      <th>/content/clean_snils_regions/158_fio2.jpg</th>\n",
              "      <td>АНДРЕЙ</td>\n",
              "      <td>А</td>\n",
              "      <td>0.2857</td>\n",
              "    </tr>\n",
              "    <tr>\n",
              "      <th>/content/clean_snils_regions/231_fio1.jpg</th>\n",
              "      <td>КУНТЕЕВА</td>\n",
              "      <td>КУРТЕЕВА</td>\n",
              "      <td>0.875</td>\n",
              "    </tr>\n",
              "  </tbody>\n",
              "</table>\n",
              "</div>\n",
              "      <button class=\"colab-df-convert\" onclick=\"convertToInteractive('df-1ed708fe-02a9-4b4f-ae98-ed54fd6ce35b')\"\n",
              "              title=\"Convert this dataframe to an interactive table.\"\n",
              "              style=\"display:none;\">\n",
              "        \n",
              "  <svg xmlns=\"http://www.w3.org/2000/svg\" height=\"24px\"viewBox=\"0 0 24 24\"\n",
              "       width=\"24px\">\n",
              "    <path d=\"M0 0h24v24H0V0z\" fill=\"none\"/>\n",
              "    <path d=\"M18.56 5.44l.94 2.06.94-2.06 2.06-.94-2.06-.94-.94-2.06-.94 2.06-2.06.94zm-11 1L8.5 8.5l.94-2.06 2.06-.94-2.06-.94L8.5 2.5l-.94 2.06-2.06.94zm10 10l.94 2.06.94-2.06 2.06-.94-2.06-.94-.94-2.06-.94 2.06-2.06.94z\"/><path d=\"M17.41 7.96l-1.37-1.37c-.4-.4-.92-.59-1.43-.59-.52 0-1.04.2-1.43.59L10.3 9.45l-7.72 7.72c-.78.78-.78 2.05 0 2.83L4 21.41c.39.39.9.59 1.41.59.51 0 1.02-.2 1.41-.59l7.78-7.78 2.81-2.81c.8-.78.8-2.07 0-2.86zM5.41 20L4 18.59l7.72-7.72 1.47 1.35L5.41 20z\"/>\n",
              "  </svg>\n",
              "      </button>\n",
              "      \n",
              "  <style>\n",
              "    .colab-df-container {\n",
              "      display:flex;\n",
              "      flex-wrap:wrap;\n",
              "      gap: 12px;\n",
              "    }\n",
              "\n",
              "    .colab-df-convert {\n",
              "      background-color: #E8F0FE;\n",
              "      border: none;\n",
              "      border-radius: 50%;\n",
              "      cursor: pointer;\n",
              "      display: none;\n",
              "      fill: #1967D2;\n",
              "      height: 32px;\n",
              "      padding: 0 0 0 0;\n",
              "      width: 32px;\n",
              "    }\n",
              "\n",
              "    .colab-df-convert:hover {\n",
              "      background-color: #E2EBFA;\n",
              "      box-shadow: 0px 1px 2px rgba(60, 64, 67, 0.3), 0px 1px 3px 1px rgba(60, 64, 67, 0.15);\n",
              "      fill: #174EA6;\n",
              "    }\n",
              "\n",
              "    [theme=dark] .colab-df-convert {\n",
              "      background-color: #3B4455;\n",
              "      fill: #D2E3FC;\n",
              "    }\n",
              "\n",
              "    [theme=dark] .colab-df-convert:hover {\n",
              "      background-color: #434B5C;\n",
              "      box-shadow: 0px 1px 3px 1px rgba(0, 0, 0, 0.15);\n",
              "      filter: drop-shadow(0px 1px 2px rgba(0, 0, 0, 0.3));\n",
              "      fill: #FFFFFF;\n",
              "    }\n",
              "  </style>\n",
              "\n",
              "      <script>\n",
              "        const buttonEl =\n",
              "          document.querySelector('#df-1ed708fe-02a9-4b4f-ae98-ed54fd6ce35b button.colab-df-convert');\n",
              "        buttonEl.style.display =\n",
              "          google.colab.kernel.accessAllowed ? 'block' : 'none';\n",
              "\n",
              "        async function convertToInteractive(key) {\n",
              "          const element = document.querySelector('#df-1ed708fe-02a9-4b4f-ae98-ed54fd6ce35b');\n",
              "          const dataTable =\n",
              "            await google.colab.kernel.invokeFunction('convertToInteractive',\n",
              "                                                     [key], {});\n",
              "          if (!dataTable) return;\n",
              "\n",
              "          const docLinkHtml = 'Like what you see? Visit the ' +\n",
              "            '<a target=\"_blank\" href=https://colab.research.google.com/notebooks/data_table.ipynb>data table notebook</a>'\n",
              "            + ' to learn more about interactive tables.';\n",
              "          element.innerHTML = '';\n",
              "          dataTable['output_type'] = 'display_data';\n",
              "          await google.colab.output.renderOutput(dataTable, element);\n",
              "          const docLink = document.createElement('div');\n",
              "          docLink.innerHTML = docLinkHtml;\n",
              "          element.appendChild(docLink);\n",
              "        }\n",
              "      </script>\n",
              "    </div>\n",
              "  </div>\n",
              "  "
            ]
          },
          "metadata": {},
          "execution_count": 87
        }
      ]
    },
    {
      "cell_type": "markdown",
      "source": [
        "## Результаты"
      ],
      "metadata": {
        "id": "pzGxJGnplaxL"
      }
    },
    {
      "cell_type": "code",
      "source": [
        "print(\"Сравнение моделей - точность распознавания слов:\\n\") # 1-WER\n",
        "print(\"Тesseract со словарём:\", str((1-0.1)*100)+'%\\n')\n",
        "print(\"Тesseract со словарём + обученный jamspell (одна модель для фио):\", str(np.round((1-0.077)*100,3))+'%\\n')\n",
        "print(\"Тesseract со словарём + обученный jamspell (три разных модели):\", str(np.round((1-0.085)*100,3))+'%\\n')"
      ],
      "metadata": {
        "colab": {
          "base_uri": "https://localhost:8080/"
        },
        "id": "NbHWtPRyhwh_",
        "outputId": "28bbbbd4-3f3a-43f4-939e-13e8fb634713"
      },
      "execution_count": null,
      "outputs": [
        {
          "output_type": "stream",
          "name": "stdout",
          "text": [
            "Сравнение моделей - точность распознавания слов:\n",
            "\n",
            "Тesseract со словарём: 90.0%\n",
            "\n",
            "Тesseract со словарём + обученный jamspell (одна модель для фио): 92.3%\n",
            "\n",
            "Тesseract со словарём + обученный jamspell (три разных модели): 91.5%\n",
            "\n"
          ]
        }
      ]
    }
  ]
}